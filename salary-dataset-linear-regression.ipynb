{
 "cells": [
  {
   "cell_type": "code",
   "execution_count": 1,
   "id": "7edb5159",
   "metadata": {
    "_cell_guid": "b1076dfc-b9ad-4769-8c92-a6c4dae69d19",
    "_uuid": "8f2839f25d086af736a60e9eeb907d3b93b6e0e5",
    "execution": {
     "iopub.execute_input": "2024-12-06T20:36:04.115819Z",
     "iopub.status.busy": "2024-12-06T20:36:04.114880Z",
     "iopub.status.idle": "2024-12-06T20:36:04.968276Z",
     "shell.execute_reply": "2024-12-06T20:36:04.967127Z"
    },
    "papermill": {
     "duration": 0.86213,
     "end_time": "2024-12-06T20:36:04.970508",
     "exception": false,
     "start_time": "2024-12-06T20:36:04.108378",
     "status": "completed"
    },
    "tags": []
   },
   "outputs": [
    {
     "name": "stdout",
     "output_type": "stream",
     "text": [
      "/kaggle/input/salary-dataset-simple-linear-regression/Salary_dataset.csv\n"
     ]
    }
   ],
   "source": [
    "# This Python 3 environment comes with many helpful analytics libraries installed\n",
    "# It is defined by the kaggle/python Docker image: https://github.com/kaggle/docker-python\n",
    "# For example, here's several helpful packages to load\n",
    "\n",
    "import numpy as np # linear algebra\n",
    "import pandas as pd # data processing, CSV file I/O (e.g. pd.read_csv)\n",
    "\n",
    "# Input data files are available in the read-only \"../input/\" directory\n",
    "# For example, running this (by clicking run or pressing Shift+Enter) will list all files under the input directory\n",
    "\n",
    "import os\n",
    "for dirname, _, filenames in os.walk('/kaggle/input'):\n",
    "    for filename in filenames:\n",
    "        print(os.path.join(dirname, filename))\n",
    "\n",
    "# You can write up to 20GB to the current directory (/kaggle/working/) that gets preserved as output when you create a version using \"Save & Run All\" \n",
    "# You can also write temporary files to /kaggle/temp/, but they won't be saved outside of the current session"
   ]
  },
  {
   "cell_type": "markdown",
   "id": "4f654527",
   "metadata": {
    "papermill": {
     "duration": 0.004103,
     "end_time": "2024-12-06T20:36:04.979276",
     "exception": false,
     "start_time": "2024-12-06T20:36:04.975173",
     "status": "completed"
    },
    "tags": []
   },
   "source": [
    "## Import required packages"
   ]
  },
  {
   "cell_type": "code",
   "execution_count": 2,
   "id": "c88564b1",
   "metadata": {
    "execution": {
     "iopub.execute_input": "2024-12-06T20:36:04.989409Z",
     "iopub.status.busy": "2024-12-06T20:36:04.988920Z",
     "iopub.status.idle": "2024-12-06T20:36:06.403553Z",
     "shell.execute_reply": "2024-12-06T20:36:06.402227Z"
    },
    "papermill": {
     "duration": 1.422503,
     "end_time": "2024-12-06T20:36:06.405999",
     "exception": false,
     "start_time": "2024-12-06T20:36:04.983496",
     "status": "completed"
    },
    "tags": []
   },
   "outputs": [],
   "source": [
    "import pandas as pd\n",
    "from sklearn import linear_model\n",
    "import matplotlib.pyplot as plt\n",
    "from sklearn.model_selection import train_test_split\n",
    "import os"
   ]
  },
  {
   "cell_type": "markdown",
   "id": "50d0b4f0",
   "metadata": {
    "papermill": {
     "duration": 0.004069,
     "end_time": "2024-12-06T20:36:06.415836",
     "exception": false,
     "start_time": "2024-12-06T20:36:06.411767",
     "status": "completed"
    },
    "tags": []
   },
   "source": [
    "## Load and Explore dataset"
   ]
  },
  {
   "cell_type": "code",
   "execution_count": 3,
   "id": "3eb760de",
   "metadata": {
    "execution": {
     "iopub.execute_input": "2024-12-06T20:36:06.426287Z",
     "iopub.status.busy": "2024-12-06T20:36:06.425760Z",
     "iopub.status.idle": "2024-12-06T20:36:06.516681Z",
     "shell.execute_reply": "2024-12-06T20:36:06.515465Z"
    },
    "papermill": {
     "duration": 0.098923,
     "end_time": "2024-12-06T20:36:06.519134",
     "exception": false,
     "start_time": "2024-12-06T20:36:06.420211",
     "status": "completed"
    },
    "tags": []
   },
   "outputs": [],
   "source": [
    "column_names = ['YearsExperience', 'Salary']\n",
    "df = pd.read_csv(\"/kaggle/input/salary-dataset-simple-linear-regression/Salary_dataset.csv\",header=1,names=column_names)"
   ]
  },
  {
   "cell_type": "code",
   "execution_count": 4,
   "id": "68d42b7e",
   "metadata": {
    "execution": {
     "iopub.execute_input": "2024-12-06T20:36:06.529576Z",
     "iopub.status.busy": "2024-12-06T20:36:06.529220Z",
     "iopub.status.idle": "2024-12-06T20:36:06.548431Z",
     "shell.execute_reply": "2024-12-06T20:36:06.547456Z"
    },
    "papermill": {
     "duration": 0.026914,
     "end_time": "2024-12-06T20:36:06.550622",
     "exception": false,
     "start_time": "2024-12-06T20:36:06.523708",
     "status": "completed"
    },
    "tags": []
   },
   "outputs": [
    {
     "data": {
      "text/html": [
       "<div>\n",
       "<style scoped>\n",
       "    .dataframe tbody tr th:only-of-type {\n",
       "        vertical-align: middle;\n",
       "    }\n",
       "\n",
       "    .dataframe tbody tr th {\n",
       "        vertical-align: top;\n",
       "    }\n",
       "\n",
       "    .dataframe thead th {\n",
       "        text-align: right;\n",
       "    }\n",
       "</style>\n",
       "<table border=\"1\" class=\"dataframe\">\n",
       "  <thead>\n",
       "    <tr style=\"text-align: right;\">\n",
       "      <th></th>\n",
       "      <th>YearsExperience</th>\n",
       "      <th>Salary</th>\n",
       "    </tr>\n",
       "  </thead>\n",
       "  <tbody>\n",
       "    <tr>\n",
       "      <th>1</th>\n",
       "      <td>1.4</td>\n",
       "      <td>46206.0</td>\n",
       "    </tr>\n",
       "    <tr>\n",
       "      <th>2</th>\n",
       "      <td>1.6</td>\n",
       "      <td>37732.0</td>\n",
       "    </tr>\n",
       "    <tr>\n",
       "      <th>3</th>\n",
       "      <td>2.1</td>\n",
       "      <td>43526.0</td>\n",
       "    </tr>\n",
       "    <tr>\n",
       "      <th>4</th>\n",
       "      <td>2.3</td>\n",
       "      <td>39892.0</td>\n",
       "    </tr>\n",
       "    <tr>\n",
       "      <th>5</th>\n",
       "      <td>3.0</td>\n",
       "      <td>56643.0</td>\n",
       "    </tr>\n",
       "  </tbody>\n",
       "</table>\n",
       "</div>"
      ],
      "text/plain": [
       "   YearsExperience   Salary\n",
       "1              1.4  46206.0\n",
       "2              1.6  37732.0\n",
       "3              2.1  43526.0\n",
       "4              2.3  39892.0\n",
       "5              3.0  56643.0"
      ]
     },
     "execution_count": 4,
     "metadata": {},
     "output_type": "execute_result"
    }
   ],
   "source": [
    "df.head()"
   ]
  },
  {
   "cell_type": "code",
   "execution_count": 5,
   "id": "a0643ae6",
   "metadata": {
    "execution": {
     "iopub.execute_input": "2024-12-06T20:36:06.561968Z",
     "iopub.status.busy": "2024-12-06T20:36:06.561568Z",
     "iopub.status.idle": "2024-12-06T20:36:06.581904Z",
     "shell.execute_reply": "2024-12-06T20:36:06.580912Z"
    },
    "papermill": {
     "duration": 0.028,
     "end_time": "2024-12-06T20:36:06.583830",
     "exception": false,
     "start_time": "2024-12-06T20:36:06.555830",
     "status": "completed"
    },
    "tags": []
   },
   "outputs": [
    {
     "data": {
      "text/html": [
       "<div>\n",
       "<style scoped>\n",
       "    .dataframe tbody tr th:only-of-type {\n",
       "        vertical-align: middle;\n",
       "    }\n",
       "\n",
       "    .dataframe tbody tr th {\n",
       "        vertical-align: top;\n",
       "    }\n",
       "\n",
       "    .dataframe thead th {\n",
       "        text-align: right;\n",
       "    }\n",
       "</style>\n",
       "<table border=\"1\" class=\"dataframe\">\n",
       "  <thead>\n",
       "    <tr style=\"text-align: right;\">\n",
       "      <th></th>\n",
       "      <th>YearsExperience</th>\n",
       "      <th>Salary</th>\n",
       "    </tr>\n",
       "  </thead>\n",
       "  <tbody>\n",
       "    <tr>\n",
       "      <th>count</th>\n",
       "      <td>29.000000</td>\n",
       "      <td>29.000000</td>\n",
       "    </tr>\n",
       "    <tr>\n",
       "      <th>mean</th>\n",
       "      <td>5.558621</td>\n",
       "      <td>77268.137931</td>\n",
       "    </tr>\n",
       "    <tr>\n",
       "      <th>std</th>\n",
       "      <td>2.772250</td>\n",
       "      <td>26995.157605</td>\n",
       "    </tr>\n",
       "    <tr>\n",
       "      <th>min</th>\n",
       "      <td>1.400000</td>\n",
       "      <td>37732.000000</td>\n",
       "    </tr>\n",
       "    <tr>\n",
       "      <th>25%</th>\n",
       "      <td>3.300000</td>\n",
       "      <td>56958.000000</td>\n",
       "    </tr>\n",
       "    <tr>\n",
       "      <th>50%</th>\n",
       "      <td>5.000000</td>\n",
       "      <td>66030.000000</td>\n",
       "    </tr>\n",
       "    <tr>\n",
       "      <th>75%</th>\n",
       "      <td>8.000000</td>\n",
       "      <td>101303.000000</td>\n",
       "    </tr>\n",
       "    <tr>\n",
       "      <th>max</th>\n",
       "      <td>10.600000</td>\n",
       "      <td>122392.000000</td>\n",
       "    </tr>\n",
       "  </tbody>\n",
       "</table>\n",
       "</div>"
      ],
      "text/plain": [
       "       YearsExperience         Salary\n",
       "count        29.000000      29.000000\n",
       "mean          5.558621   77268.137931\n",
       "std           2.772250   26995.157605\n",
       "min           1.400000   37732.000000\n",
       "25%           3.300000   56958.000000\n",
       "50%           5.000000   66030.000000\n",
       "75%           8.000000  101303.000000\n",
       "max          10.600000  122392.000000"
      ]
     },
     "execution_count": 5,
     "metadata": {},
     "output_type": "execute_result"
    }
   ],
   "source": [
    "summary_stats = df.describe()\n",
    "summary_stats"
   ]
  },
  {
   "cell_type": "markdown",
   "id": "6e69f33d",
   "metadata": {
    "papermill": {
     "duration": 0.004584,
     "end_time": "2024-12-06T20:36:06.593188",
     "exception": false,
     "start_time": "2024-12-06T20:36:06.588604",
     "status": "completed"
    },
    "tags": []
   },
   "source": [
    "## Scatter diagram (YearsExperience vs Salary)"
   ]
  },
  {
   "cell_type": "code",
   "execution_count": 6,
   "id": "fa6256e6",
   "metadata": {
    "execution": {
     "iopub.execute_input": "2024-12-06T20:36:06.603773Z",
     "iopub.status.busy": "2024-12-06T20:36:06.603404Z",
     "iopub.status.idle": "2024-12-06T20:36:06.851092Z",
     "shell.execute_reply": "2024-12-06T20:36:06.849895Z"
    },
    "papermill": {
     "duration": 0.255648,
     "end_time": "2024-12-06T20:36:06.853333",
     "exception": false,
     "start_time": "2024-12-06T20:36:06.597685",
     "status": "completed"
    },
    "tags": []
   },
   "outputs": [
    {
     "data": {
      "image/png": "[encoded data removed]",
      "text/plain": [
       "<Figure size 640x480 with 1 Axes>"
      ]
     },
     "metadata": {},
     "output_type": "display_data"
    }
   ],
   "source": [
    "plt.scatter(df['YearsExperience'], df['Salary'], color='blue')\n",
    "plt.title('Years of Experience vs Salary')\n",
    "plt.xlabel('Years of Experience')\n",
    "plt.ylabel('Salary')\n",
    "plt.show()"
   ]
  },
  {
   "cell_type": "markdown",
   "id": "97a0d325",
   "metadata": {
    "papermill": {
     "duration": 0.004792,
     "end_time": "2024-12-06T20:36:06.863482",
     "exception": false,
     "start_time": "2024-12-06T20:36:06.858690",
     "status": "completed"
    },
    "tags": []
   },
   "source": [
    "## Train/Fit model "
   ]
  },
  {
   "cell_type": "code",
   "execution_count": 7,
   "id": "8d14dcfa",
   "metadata": {
    "execution": {
     "iopub.execute_input": "2024-12-06T20:36:06.875379Z",
     "iopub.status.busy": "2024-12-06T20:36:06.874986Z",
     "iopub.status.idle": "2024-12-06T20:36:06.885010Z",
     "shell.execute_reply": "2024-12-06T20:36:06.884088Z"
    },
    "papermill": {
     "duration": 0.018464,
     "end_time": "2024-12-06T20:36:06.886924",
     "exception": false,
     "start_time": "2024-12-06T20:36:06.868460",
     "status": "completed"
    },
    "tags": []
   },
   "outputs": [],
   "source": [
    "X_train,X_test,y_train,y_test = train_test_split(df.YearsExperience,df.Salary,train_size=0.8,random_state=42)"
   ]
  },
  {
   "cell_type": "code",
   "execution_count": 8,
   "id": "248ceb87",
   "metadata": {
    "execution": {
     "iopub.execute_input": "2024-12-06T20:36:06.898688Z",
     "iopub.status.busy": "2024-12-06T20:36:06.898328Z",
     "iopub.status.idle": "2024-12-06T20:36:06.903390Z",
     "shell.execute_reply": "2024-12-06T20:36:06.902441Z"
    },
    "papermill": {
     "duration": 0.013198,
     "end_time": "2024-12-06T20:36:06.905316",
     "exception": false,
     "start_time": "2024-12-06T20:36:06.892118",
     "status": "completed"
    },
    "tags": []
   },
   "outputs": [],
   "source": [
    "X_train = X_train.values.reshape(-1, 1)  # Ensure 2D format for X_train\n",
    "X_test = X_test.values.reshape(-1, 1)    # Ensure 2D format for X_test"
   ]
  },
  {
   "cell_type": "code",
   "execution_count": 9,
   "id": "553b8a4e",
   "metadata": {
    "execution": {
     "iopub.execute_input": "2024-12-06T20:36:06.917157Z",
     "iopub.status.busy": "2024-12-06T20:36:06.916784Z",
     "iopub.status.idle": "2024-12-06T20:36:06.941013Z",
     "shell.execute_reply": "2024-12-06T20:36:06.940005Z"
    },
    "papermill": {
     "duration": 0.032898,
     "end_time": "2024-12-06T20:36:06.943355",
     "exception": false,
     "start_time": "2024-12-06T20:36:06.910457",
     "status": "completed"
    },
    "tags": []
   },
   "outputs": [
    {
     "data": {
      "text/html": [
       "<style>#sk-container-id-1 {color: black;background-color: white;}#sk-container-id-1 pre{padding: 0;}#sk-container-id-1 div.sk-toggleable {background-color: white;}#sk-container-id-1 label.sk-toggleable__label {cursor: pointer;display: block;width: 100%;margin-bottom: 0;padding: 0.3em;box-sizing: border-box;text-align: center;}#sk-container-id-1 label.sk-toggleable__label-arrow:before {content: \"▸\";float: left;margin-right: 0.25em;color: #696969;}#sk-container-id-1 label.sk-toggleable__label-arrow:hover:before {color: black;}#sk-container-id-1 div.sk-estimator:hover label.sk-toggleable__label-arrow:before {color: black;}#sk-container-id-1 div.sk-toggleable__content {max-height: 0;max-width: 0;overflow: hidden;text-align: left;background-color: #f0f8ff;}#sk-container-id-1 div.sk-toggleable__content pre {margin: 0.2em;color: black;border-radius: 0.25em;background-color: #f0f8ff;}#sk-container-id-1 input.sk-toggleable__control:checked~div.sk-toggleable__content {max-height: 200px;max-width: 100%;overflow: auto;}#sk-container-id-1 input.sk-toggleable__control:checked~label.sk-toggleable__label-arrow:before {content: \"▾\";}#sk-container-id-1 div.sk-estimator input.sk-toggleable__control:checked~label.sk-toggleable__label {background-color: #d4ebff;}#sk-container-id-1 div.sk-label input.sk-toggleable__control:checked~label.sk-toggleable__label {background-color: #d4ebff;}#sk-container-id-1 input.sk-hidden--visually {border: 0;clip: rect(1px 1px 1px 1px);clip: rect(1px, 1px, 1px, 1px);height: 1px;margin: -1px;overflow: hidden;padding: 0;position: absolute;width: 1px;}#sk-container-id-1 div.sk-estimator {font-family: monospace;background-color: #f0f8ff;border: 1px dotted black;border-radius: 0.25em;box-sizing: border-box;margin-bottom: 0.5em;}#sk-container-id-1 div.sk-estimator:hover {background-color: #d4ebff;}#sk-container-id-1 div.sk-parallel-item::after {content: \"\";width: 100%;border-bottom: 1px solid gray;flex-grow: 1;}#sk-container-id-1 div.sk-label:hover label.sk-toggleable__label {background-color: #d4ebff;}#sk-container-id-1 div.sk-serial::before {content: \"\";position: absolute;border-left: 1px solid gray;box-sizing: border-box;top: 0;bottom: 0;left: 50%;z-index: 0;}#sk-container-id-1 div.sk-serial {display: flex;flex-direction: column;align-items: center;background-color: white;padding-right: 0.2em;padding-left: 0.2em;position: relative;}#sk-container-id-1 div.sk-item {position: relative;z-index: 1;}#sk-container-id-1 div.sk-parallel {display: flex;align-items: stretch;justify-content: center;background-color: white;position: relative;}#sk-container-id-1 div.sk-item::before, #sk-container-id-1 div.sk-parallel-item::before {content: \"\";position: absolute;border-left: 1px solid gray;box-sizing: border-box;top: 0;bottom: 0;left: 50%;z-index: -1;}#sk-container-id-1 div.sk-parallel-item {display: flex;flex-direction: column;z-index: 1;position: relative;background-color: white;}#sk-container-id-1 div.sk-parallel-item:first-child::after {align-self: flex-end;width: 50%;}#sk-container-id-1 div.sk-parallel-item:last-child::after {align-self: flex-start;width: 50%;}#sk-container-id-1 div.sk-parallel-item:only-child::after {width: 0;}#sk-container-id-1 div.sk-dashed-wrapped {border: 1px dashed gray;margin: 0 0.4em 0.5em 0.4em;box-sizing: border-box;padding-bottom: 0.4em;background-color: white;}#sk-container-id-1 div.sk-label label {font-family: monospace;font-weight: bold;display: inline-block;line-height: 1.2em;}#sk-container-id-1 div.sk-label-container {text-align: center;}#sk-container-id-1 div.sk-container {/* jupyter's `normalize.less` sets `[hidden] { display: none; }` but bootstrap.min.css set `[hidden] { display: none !important; }` so we also need the `!important` here to be able to override the default hidden behavior on the sphinx rendered scikit-learn.org. See: https://github.com/scikit-learn/scikit-learn/issues/21755 */display: inline-block !important;position: relative;}#sk-container-id-1 div.sk-text-repr-fallback {display: none;}</style><div id=\"sk-container-id-1\" class=\"sk-top-container\"><div class=\"sk-text-repr-fallback\"><pre>LinearRegression()</pre><b>In a Jupyter environment, please rerun this cell to show the HTML representation or trust the notebook. <br />On GitHub, the HTML representation is unable to render, please try loading this page with nbviewer.org.</b></div><div class=\"sk-container\" hidden><div class=\"sk-item\"><div class=\"sk-estimator sk-toggleable\"><input class=\"sk-toggleable__control sk-hidden--visually\" id=\"sk-estimator-id-1\" type=\"checkbox\" checked><label for=\"sk-estimator-id-1\" class=\"sk-toggleable__label sk-toggleable__label-arrow\">LinearRegression</label><div class=\"sk-toggleable__content\"><pre>LinearRegression()</pre></div></div></div></div></div>"
      ],
      "text/plain": [
       "LinearRegression()"
      ]
     },
     "execution_count": 9,
     "metadata": {},
     "output_type": "execute_result"
    }
   ],
   "source": [
    "reg = linear_model.LinearRegression()\n",
    "reg.fit(X_train,y_train)"
   ]
  },
  {
   "cell_type": "code",
   "execution_count": 10,
   "id": "98ec9e5d",
   "metadata": {
    "execution": {
     "iopub.execute_input": "2024-12-06T20:36:06.956312Z",
     "iopub.status.busy": "2024-12-06T20:36:06.955928Z",
     "iopub.status.idle": "2024-12-06T20:36:06.962603Z",
     "shell.execute_reply": "2024-12-06T20:36:06.961621Z"
    },
    "papermill": {
     "duration": 0.015283,
     "end_time": "2024-12-06T20:36:06.964542",
     "exception": false,
     "start_time": "2024-12-06T20:36:06.949259",
     "status": "completed"
    },
    "tags": []
   },
   "outputs": [
    {
     "data": {
      "text/plain": [
       "(array([9296.54360763]), 25260.58237763067)"
      ]
     },
     "execution_count": 10,
     "metadata": {},
     "output_type": "execute_result"
    }
   ],
   "source": [
    "reg.coef_, reg.intercept_"
   ]
  },
  {
   "cell_type": "markdown",
   "id": "a0edcf94",
   "metadata": {
    "papermill": {
     "duration": 0.005313,
     "end_time": "2024-12-06T20:36:06.975338",
     "exception": false,
     "start_time": "2024-12-06T20:36:06.970025",
     "status": "completed"
    },
    "tags": []
   },
   "source": [
    "Regression fomula: <br>\n",
    "Y = intercept + slope * input"
   ]
  },
  {
   "cell_type": "code",
   "execution_count": 11,
   "id": "2b2a7182",
   "metadata": {
    "execution": {
     "iopub.execute_input": "2024-12-06T20:36:06.987777Z",
     "iopub.status.busy": "2024-12-06T20:36:06.987396Z",
     "iopub.status.idle": "2024-12-06T20:36:06.994175Z",
     "shell.execute_reply": "2024-12-06T20:36:06.993174Z"
    },
    "papermill": {
     "duration": 0.015225,
     "end_time": "2024-12-06T20:36:06.996034",
     "exception": false,
     "start_time": "2024-12-06T20:36:06.980809",
     "status": "completed"
    },
    "tags": []
   },
   "outputs": [
    {
     "data": {
      "text/plain": [
       "array([55939.17628281])"
      ]
     },
     "execution_count": 11,
     "metadata": {},
     "output_type": "execute_result"
    }
   ],
   "source": [
    "reg.predict([[3.3]])"
   ]
  },
  {
   "cell_type": "code",
   "execution_count": 12,
   "id": "2272489d",
   "metadata": {
    "execution": {
     "iopub.execute_input": "2024-12-06T20:36:07.009216Z",
     "iopub.status.busy": "2024-12-06T20:36:07.008819Z",
     "iopub.status.idle": "2024-12-06T20:36:07.013431Z",
     "shell.execute_reply": "2024-12-06T20:36:07.012355Z"
    },
    "papermill": {
     "duration": 0.013913,
     "end_time": "2024-12-06T20:36:07.015593",
     "exception": false,
     "start_time": "2024-12-06T20:36:07.001680",
     "status": "completed"
    },
    "tags": []
   },
   "outputs": [],
   "source": [
    "y = reg.intercept_ + reg.coef_ * 3.3"
   ]
  },
  {
   "cell_type": "markdown",
   "id": "6ac71ccd",
   "metadata": {
    "papermill": {
     "duration": 0.005266,
     "end_time": "2024-12-06T20:36:07.026709",
     "exception": false,
     "start_time": "2024-12-06T20:36:07.021443",
     "status": "completed"
    },
    "tags": []
   },
   "source": [
    "## Visualization of Fitted line"
   ]
  },
  {
   "cell_type": "code",
   "execution_count": 13,
   "id": "a4e554c6",
   "metadata": {
    "execution": {
     "iopub.execute_input": "2024-12-06T20:36:07.040504Z",
     "iopub.status.busy": "2024-12-06T20:36:07.040124Z",
     "iopub.status.idle": "2024-12-06T20:36:07.255214Z",
     "shell.execute_reply": "2024-12-06T20:36:07.254174Z"
    },
    "papermill": {
     "duration": 0.22423,
     "end_time": "2024-12-06T20:36:07.257424",
     "exception": false,
     "start_time": "2024-12-06T20:36:07.033194",
     "status": "completed"
    },
    "tags": []
   },
   "outputs": [
    {
     "data": {
      "text/plain": [
       "[<matplotlib.lines.Line2D at 0x7b333ba70730>]"
      ]
     },
     "execution_count": 13,
     "metadata": {},
     "output_type": "execute_result"
    },
    {
     "data": {
      "image/png": "[encoded data removed]",
      "text/plain": [
       "<Figure size 640x480 with 1 Axes>"
      ]
     },
     "metadata": {},
     "output_type": "display_data"
    }
   ],
   "source": [
    "plt.xlabel(\"YearsExperience\")\n",
    "plt.ylabel(\"Salary\")\n",
    "plt.scatter(X_train,y_train,color=\"red\", marker=\"+\")\n",
    "plt.plot(X_train,reg.predict(X_train))"
   ]
  },
  {
   "cell_type": "markdown",
   "id": "268f009b",
   "metadata": {
    "papermill": {
     "duration": 0.005698,
     "end_time": "2024-12-06T20:36:07.269491",
     "exception": false,
     "start_time": "2024-12-06T20:36:07.263793",
     "status": "completed"
    },
    "tags": []
   },
   "source": [
    "## Evaluate the model performance"
   ]
  },
  {
   "cell_type": "code",
   "execution_count": 14,
   "id": "528960c5",
   "metadata": {
    "execution": {
     "iopub.execute_input": "2024-12-06T20:36:07.283307Z",
     "iopub.status.busy": "2024-12-06T20:36:07.282404Z",
     "iopub.status.idle": "2024-12-06T20:36:07.286995Z",
     "shell.execute_reply": "2024-12-06T20:36:07.286090Z"
    },
    "papermill": {
     "duration": 0.013449,
     "end_time": "2024-12-06T20:36:07.288886",
     "exception": false,
     "start_time": "2024-12-06T20:36:07.275437",
     "status": "completed"
    },
    "tags": []
   },
   "outputs": [],
   "source": [
    "from sklearn.metrics import mean_squared_error"
   ]
  },
  {
   "cell_type": "code",
   "execution_count": 15,
   "id": "50883fbc",
   "metadata": {
    "execution": {
     "iopub.execute_input": "2024-12-06T20:36:07.302264Z",
     "iopub.status.busy": "2024-12-06T20:36:07.301887Z",
     "iopub.status.idle": "2024-12-06T20:36:07.306723Z",
     "shell.execute_reply": "2024-12-06T20:36:07.305834Z"
    },
    "papermill": {
     "duration": 0.013798,
     "end_time": "2024-12-06T20:36:07.308650",
     "exception": false,
     "start_time": "2024-12-06T20:36:07.294852",
     "status": "completed"
    },
    "tags": []
   },
   "outputs": [],
   "source": [
    "y_pred = reg.predict(X_test)\n"
   ]
  },
  {
   "cell_type": "code",
   "execution_count": 16,
   "id": "7107676f",
   "metadata": {
    "execution": {
     "iopub.execute_input": "2024-12-06T20:36:07.322231Z",
     "iopub.status.busy": "2024-12-06T20:36:07.321815Z",
     "iopub.status.idle": "2024-12-06T20:36:07.328954Z",
     "shell.execute_reply": "2024-12-06T20:36:07.327878Z"
    },
    "papermill": {
     "duration": 0.016324,
     "end_time": "2024-12-06T20:36:07.331019",
     "exception": false,
     "start_time": "2024-12-06T20:36:07.314695",
     "status": "completed"
    },
    "tags": []
   },
   "outputs": [
    {
     "data": {
      "text/plain": [
       "42075990.17426761"
      ]
     },
     "execution_count": 16,
     "metadata": {},
     "output_type": "execute_result"
    }
   ],
   "source": [
    "mean_squared_error(y_pred,y_test.to_numpy())"
   ]
  }
 ],
 "metadata": {
  "kaggle": {
   "accelerator": "none",
   "dataSources": [
    {
     "datasetId": 6246438,
     "sourceId": 10122758,
     "sourceType": "datasetVersion"
    }
   ],
   "dockerImageVersionId": 30804,
   "isGpuEnabled": false,
   "isInternetEnabled": true,
   "language": "python",
   "sourceType": "notebook"
  },
  "kernelspec": {
   "display_name": "Python 3",
   "language": "python",
   "name": "python3"
  },
  "language_info": {
   "codemirror_mode": {
    "name": "ipython",
    "version": 3
   },
   "file_extension": ".py",
   "mimetype": "text/x-python",
   "name": "python",
   "nbconvert_exporter": "python",
   "pygments_lexer": "ipython3",
   "version": "3.10.14"
  },
  "papermill": {
   "default_parameters": {},
   "duration": 6.399124,
   "end_time": "2024-12-06T20:36:07.957892",
   "environment_variables": {},
   "exception": null,
   "input_path": "__notebook__.ipynb",
   "output_path": "__notebook__.ipynb",
   "parameters": {},
   "start_time": "2024-12-06T20:36:01.558768",
   "version": "2.6.0"
  }
 },
 "nbformat": 4,
 "nbformat_minor": 5
}
